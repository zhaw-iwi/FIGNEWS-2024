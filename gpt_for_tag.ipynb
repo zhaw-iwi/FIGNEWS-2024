{
 "cells": [
  {
   "cell_type": "markdown",
   "metadata": {},
   "source": [
    "# GPT for Linguistic Annotation"
   ]
  },
  {
   "cell_type": "code",
   "execution_count": 1,
   "metadata": {},
   "outputs": [],
   "source": [
    "# imports for this project\n",
    "import gspread\n",
    "import pandas as pd\n",
    "import os\n",
    "from utils import append_data, lm_completion"
   ]
  },
  {
   "cell_type": "markdown",
   "metadata": {},
   "source": [
    "### Sys-admin"
   ]
  },
  {
   "cell_type": "code",
   "execution_count": 2,
   "metadata": {},
   "outputs": [],
   "source": [
    "# Google Sheets API\n",
    "gc = gspread.service_account(filename='fignews-7b178eec49aa.json')\n",
    "SHEET_ID = \"1W3tCrA14vD0WyKC79tPplUvircS9OttzYOkz9BQwljk\"\n",
    "SHEET_NAME = \"Main\""
   ]
  },
  {
   "cell_type": "markdown",
   "metadata": {},
   "source": [
    "Get Sample Data from Google Sheets"
   ]
  },
  {
   "cell_type": "code",
   "execution_count": 3,
   "metadata": {},
   "outputs": [
    {
     "name": "stdout",
     "output_type": "stream",
     "text": [
      "  Batch Source Language  ID  Type  \\\n",
      "0   B01         English   1  MAIN   \n",
      "1   B01         English   2  MAIN   \n",
      "2   B01         English   4  MAIN   \n",
      "3   B01         English   7  MAIN   \n",
      "4   B01         English   8  MAIN   \n",
      "\n",
      "                                                Text  \\\n",
      "0  Yemen's Houthis have waded into the Israel-Ham...   \n",
      "1             Isreal - Hamas Conflict | Face to Face   \n",
      "2  Videos show how armed men from Gaza stormed a ...   \n",
      "3  Protest in Aligarh Muslim University in suppor...   \n",
      "4  IDF releases audio recording about misfired ro...   \n",
      "\n",
      "                                          English MT  \\\n",
      "0  Yemen's Houthis have waded into the Israel-Ham...   \n",
      "1             Isreal - Hamas Conflict | Face to Face   \n",
      "2  Videos show how armed men from Gaza stormed a ...   \n",
      "3  Protest in Aligarh Muslim University in suppor...   \n",
      "4  IDF releases audio recording about misfired ro...   \n",
      "\n",
      "                                           Arabic MT Annotator ID      Bias  \\\n",
      "0  خاض الحوثيون في اليمن الحرب بين إسرائيل وحماس ...            1  Unbiased   \n",
      "1               إسرائيل - الصراع مع حماس | وجها لوجه            1  Unbiased   \n",
      "2  أظهرت مقاطع فيديو كيف اقتحم مسلحون من غزة مهرج...            1  Unbiased   \n",
      "3  وقفة احتجاجية في جامعة عليكرة الإسلامية دعما ل...            1   Unclear   \n",
      "4  الجيش الإسرائيلي ينشر تسجيلًا صوتيًا حول صاروخ...            1  Unbiased   \n",
      "\n",
      "       Propaganda                  Comments  \\\n",
      "0  Not Propaganda           Not Applicable.   \n",
      "1      Propaganda                  Unbiased   \n",
      "2      Propaganda     Biased against Israel   \n",
      "3         Unclear                  Unbiased   \n",
      "4  Not Propaganda  Biased against Palestine   \n",
      "\n",
      "                                                      \n",
      "0  Mike Johnson is House Republicans’ next speake...  \n",
      "1  Netanyahu says Gaza war[negative] on Hamas wil...  \n",
      "2  #Urgent[factuality] | #Erdogan: Hamas is a res...  \n",
      "3  Narendra Modi is the first Prime Minister of I...  \n",
      "4  🔴 The IDF declares a state of alert - Hamas wi...  \n"
     ]
    }
   ],
   "source": [
    "spreadsheet = gc.open_by_key(SHEET_ID)\n",
    "worksheet = spreadsheet.worksheet(SHEET_NAME)\n",
    "rows = worksheet.get_all_records()\n",
    "df = pd.DataFrame(rows)\n",
    "print(df.head())\n",
    "sample = df.sample(5)"
   ]
  },
  {
   "cell_type": "code",
   "execution_count": 4,
   "metadata": {},
   "outputs": [
    {
     "name": "stdout",
     "output_type": "stream",
     "text": [
      "      Batch Source Language     ID  Type  \\\n",
      "2149    B03          Arabic  14521  MAIN   \n",
      "1833    B03         English    673  MAIN   \n",
      "309     B01          Arabic   3530  MAIN   \n",
      "11796   B14         English   3727  MAIN   \n",
      "12011   B14          Arabic   9325  MAIN   \n",
      "\n",
      "                                                    Text  \\\n",
      "2149   \"فتح\": تصريحات المدعو حماد تعبر عن انحطاط وطني...   \n",
      "1833   HAPPENING NOW: Pres. Biden delivers remarks af...   \n",
      "309    بدأ عملها بخطف جلعاد شاليط، وكانت المسؤولة عن ...   \n",
      "11796  The Republican presidential candidates all cal...   \n",
      "12011  منذ 15 عاماً.. 4 حروب اندلعت بين الفلسطينيين و...   \n",
      "\n",
      "                                              English MT  \\\n",
      "2149   \"Fatah\": The statements of the so-called Hamma...   \n",
      "1833   HAPPENING NOW: Pres. Biden delivers remarks af...   \n",
      "309    Her work began with the kidnapping of Gilad Sh...   \n",
      "11796  The Republican presidential candidates all cal...   \n",
      "12011  15 years ago... 4 wars broke out between Pales...   \n",
      "\n",
      "                                               Arabic MT Annotator ID Bias  \\\n",
      "2149   \"فتح\": تصريحات المدعو حماد تعبر عن انحطاط وطني...                     \n",
      "1833   يحدث الآن: الرئيس. بايدن يدلي بتصريحاته بعد إط...                     \n",
      "309    بدأ عملها بخطف جلعاد شاليط، وكانت المسؤولة عن ...                     \n",
      "11796  وقد دعا جميع المرشحين الرئاسيين الجمهوريين الو...                     \n",
      "12011  منذ 15 عاماً.. 4 حروب اندلعت بين الفلسطينيين و...                     \n",
      "\n",
      "      Propaganda Comments                GPT proposal  \n",
      "2149                         Biased against Palestine  \n",
      "1833                                         Unbiased  \n",
      "309                                          Unbiased  \n",
      "11796                                        Unbiased  \n",
      "12011                                        Unbiased  \n"
     ]
    }
   ],
   "source": [
    "def apply_tag(df):\n",
    "    \n",
    "    prompt: str = \"\"\"\n",
    "    You are an expert for linguistic media bias detection. You are asked to label the following text with one of the following labels:\n",
    "    Unbiased\n",
    "    Biased against Palestine\n",
    "    Biased against Israel\n",
    "    Biased against both Palestine and Israel\n",
    "    Biased against others\n",
    "    Unclear\n",
    "    Not Applicable.\n",
    "    There is not more context to include that what is given to you, so please make your best judgment based on the text alone. Just reply with the label. Here is the text:\n",
    "    \"\"\"\n",
    "    df['GPT proposal'] = df['English MT'].apply(lambda row: lm_completion([\n",
    "        {\"role\": \"system\", \"content\": prompt},\n",
    "        {\"role\": \"system\", \"content\": row}]))\n",
    "    return df\n",
    "\n",
    "df_annotated = apply_tag(sample)\n",
    "print(df_annotated.head())"
   ]
  },
  {
   "cell_type": "code",
   "execution_count": 5,
   "metadata": {},
   "outputs": [],
   "source": [
    "df_annotated.to_excel(\"annotated.xlsx\")"
   ]
  },
  {
   "cell_type": "code",
   "execution_count": 6,
   "metadata": {},
   "outputs": [
    {
     "name": "stdout",
     "output_type": "stream",
     "text": [
      "      Batch Source Language     ID  Type  \\\n",
      "2149    B03          Arabic  14521  MAIN   \n",
      "1833    B03         English    673  MAIN   \n",
      "309     B01          Arabic   3530  MAIN   \n",
      "11796   B14         English   3727  MAIN   \n",
      "12011   B14          Arabic   9325  MAIN   \n",
      "\n",
      "                                                    Text  \\\n",
      "2149   \"فتح\": تصريحات المدعو حماد تعبر عن انحطاط وطني...   \n",
      "1833   HAPPENING NOW: Pres. Biden delivers remarks af...   \n",
      "309    بدأ عملها بخطف جلعاد شاليط، وكانت المسؤولة عن ...   \n",
      "11796  The Republican presidential candidates all cal...   \n",
      "12011  منذ 15 عاماً.. 4 حروب اندلعت بين الفلسطينيين و...   \n",
      "\n",
      "                                              English MT  \\\n",
      "2149   \"Fatah\": The statements of the so-called Hamma...   \n",
      "1833   HAPPENING NOW: Pres. Biden delivers remarks af...   \n",
      "309    Her work began with the kidnapping of Gilad Sh...   \n",
      "11796  The Republican presidential candidates all cal...   \n",
      "12011  15 years ago... 4 wars broke out between Pales...   \n",
      "\n",
      "                                               Arabic MT Annotator ID Bias  \\\n",
      "2149   \"فتح\": تصريحات المدعو حماد تعبر عن انحطاط وطني...                     \n",
      "1833   يحدث الآن: الرئيس. بايدن يدلي بتصريحاته بعد إط...                     \n",
      "309    بدأ عملها بخطف جلعاد شاليط، وكانت المسؤولة عن ...                     \n",
      "11796  وقد دعا جميع المرشحين الرئاسيين الجمهوريين الو...                     \n",
      "12011  منذ 15 عاماً.. 4 حروب اندلعت بين الفلسطينيين و...                     \n",
      "\n",
      "      Propaganda Comments                GPT proposal  \\\n",
      "2149                         Biased against Palestine   \n",
      "1833                                         Unbiased   \n",
      "309                                          Unbiased   \n",
      "11796                                        Unbiased   \n",
      "12011                                        Unbiased   \n",
      "\n",
      "                                         GPT connotation  \n",
      "2149   \"Fatah\": The statements of the so-called[factu...  \n",
      "1833   HAPPENING NOW: Pres. Biden delivers remarks af...  \n",
      "309    Her work began with the kidnapping[negative] o...  \n",
      "11796  The Republican presidential candidates all cal...  \n",
      "12011  15 years ago... 4 wars[negative] broke out[neg...  \n"
     ]
    }
   ],
   "source": [
    "def tag_connotations(df):\n",
    "    prompt: str = \"\"\"\n",
    "    You are an expert for linguistic media bias detection. You are asked to label words in the following text with one of the following labels:\n",
    "    [negative]: meaning that the word has a negative connotation\n",
    "    [positive]: meaning that the word has a positive connotation\n",
    "    [factuality]: meaning that the word adds doubt to the factuality of the text\n",
    "    Directly apply the tag behin the word it applies to, for example:\n",
    "    This is an awful[negative] text.\n",
    "    Do not change anything else about the text, just add the tags, where applicable. Here is the text:\n",
    "    \"\"\"\n",
    "    df['GPT connotation'] = df['English MT'].apply(lambda row: lm_completion([\n",
    "        {\"role\": \"system\", \"content\": prompt},\n",
    "        {\"role\": \"system\", \"content\": row}]))\n",
    "    return df\n",
    "\n",
    "df_annotated_connotations = tag_connotations(df_annotated)\n",
    "print(df_annotated_connotations.head())"
   ]
  },
  {
   "cell_type": "code",
   "execution_count": 7,
   "metadata": {},
   "outputs": [],
   "source": [
    "df_annotated_connotations.to_excel(\"annotated_connotations.xlsx\")"
   ]
  },
  {
   "cell_type": "markdown",
   "metadata": {},
   "source": [
    "Update Google Sheets with our Results"
   ]
  },
  {
   "cell_type": "code",
   "execution_count": 8,
   "metadata": {},
   "outputs": [],
   "source": [
    "append_data(df_annotated_connotations[[\"GPT proposal\", \"GPT connotation\"]], worksheet, 2)"
   ]
  }
 ],
 "metadata": {
  "kernelspec": {
   "display_name": "venv",
   "language": "python",
   "name": "python3"
  },
  "language_info": {
   "codemirror_mode": {
    "name": "ipython",
    "version": 3
   },
   "file_extension": ".py",
   "mimetype": "text/x-python",
   "name": "python",
   "nbconvert_exporter": "python",
   "pygments_lexer": "ipython3",
   "version": "3.11.4"
  }
 },
 "nbformat": 4,
 "nbformat_minor": 2
}
