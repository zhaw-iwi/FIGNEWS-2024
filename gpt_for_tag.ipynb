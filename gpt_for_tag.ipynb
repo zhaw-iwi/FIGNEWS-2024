{
 "cells": [
  {
   "cell_type": "markdown",
   "metadata": {},
   "source": [
    "# GPT for Linguistic Annotation"
   ]
  },
  {
   "cell_type": "code",
   "execution_count": 14,
   "metadata": {},
   "outputs": [],
   "source": [
    "# imports for this project\n",
    "import gspread\n",
    "import pandas as pd\n",
    "import os\n",
    "from utils import lm_completion"
   ]
  },
  {
   "cell_type": "markdown",
   "metadata": {},
   "source": [
    "### Sys-admin"
   ]
  },
  {
   "cell_type": "code",
   "execution_count": 22,
   "metadata": {},
   "outputs": [],
   "source": [
    "# Google Sheets API\n",
    "gc = gspread.service_account(filename='fignews-7b178eec49aa.json')\n",
    "SHEET_ID = \"1e_KpDnyNriLSNWMt-qIvcqGqtH_JC9YrzoMDHNiqdNA\"\n",
    "SHEET_NAME = \"Main\"\n",
    "\n",
    "# OpenAI API\n"
   ]
  },
  {
   "cell_type": "code",
   "execution_count": 20,
   "metadata": {},
   "outputs": [],
   "source": [
    "def lm_completion(messages: list[dict]) -> str:\n",
    "    \n",
    "    client = AzureOpenAI(\n",
    "        azure_endpoint=OPENAI_DEPLOYMENT_ENDPOINT,\n",
    "        api_key=OPENAI_API_KEY,\n",
    "        api_version=OPENAI_DEPLOYMENT_VERSION,\n",
    "    )\n",
    "    response = client.chat.completions.create(\n",
    "       messages=messages,\n",
    "          model=OPENAI_MODEL_NAME\n",
    "    )\n",
    "    return response.choices[0].message.content.strip()"
   ]
  },
  {
   "cell_type": "code",
   "execution_count": 21,
   "metadata": {},
   "outputs": [
    {
     "name": "stdout",
     "output_type": "stream",
     "text": [
      "Was sind die Hauptbereiche der Betriebswirtschaft?\n",
      "Was sind die grundlegenden Prinzipien der Betriebswirtschaft?\n",
      "Wie unterscheidet sich Betriebswirtschaft von Volkswirtschaft?\n",
      "Welche Rolle spielt die Betriebswirtschaft in einem Unternehmen?\n",
      "Wie wird die Betriebswirtschaft in der Praxis angewendet?\n"
     ]
    }
   ],
   "source": [
    "messages = [\n",
    "        {\n",
    "            \"role\": \"system\",\n",
    "            \"content\": \"Du bist Lehrperson für Betriebswirtschaft. Du bekommst Fragen zum Lehrmittel über Betriebswirtschaft. \"\n",
    "            \"Schlage bis zu 5 zusätzliche verwandte Fragen vor um dem Benutzer zu helfen, die Antworten auf seine Frage zu finden. \"\n",
    "            \"Schlage nur kurze Fragen in einfachen Sätzen vor. Schlage unterschiedliche Fragen vor, die verschiende Aspekte des Themas abdecken.\"\n",
    "            \"Stelle sicher, dass es vollständige Fragen sind und sie mit der Ausgangsfrage verwandt sind.\"\n",
    "            \"Gib eine Frage pro Zeile und ohne Nummerierung aus.\"\n",
    "        },\n",
    "        {\"role\": \"user\", \"content\": \"was ist betriebswirtschaft?\"},\n",
    "]\n",
    "print(lm_completion(messages))"
   ]
  },
  {
   "cell_type": "code",
   "execution_count": 11,
   "metadata": {},
   "outputs": [
    {
     "name": "stdout",
     "output_type": "stream",
     "text": [
      "  Batch Source Language  ID  Type  \\\n",
      "0   B01         English   1  MAIN   \n",
      "1   B01         English   2  MAIN   \n",
      "2   B01         English   4  MAIN   \n",
      "3   B01         English   7  MAIN   \n",
      "4   B01         English   8  MAIN   \n",
      "\n",
      "                                                Text  \\\n",
      "0  Yemen's Houthis have waded into the Israel-Ham...   \n",
      "1             Isreal - Hamas Conflict | Face to Face   \n",
      "2  Videos show how armed men from Gaza stormed a ...   \n",
      "3  Protest in Aligarh Muslim University in suppor...   \n",
      "4  IDF releases audio recording about misfired ro...   \n",
      "\n",
      "                                          English MT  \\\n",
      "0  Yemen's Houthis have waded into the Israel-Ham...   \n",
      "1             Isreal - Hamas Conflict | Face to Face   \n",
      "2  Videos show how armed men from Gaza stormed a ...   \n",
      "3  Protest in Aligarh Muslim University in suppor...   \n",
      "4  IDF releases audio recording about misfired ro...   \n",
      "\n",
      "                                           Arabic MT Annotator ID      Bias  \\\n",
      "0  خاض الحوثيون في اليمن الحرب بين إسرائيل وحماس ...            1  Unbiased   \n",
      "1               إسرائيل - الصراع مع حماس | وجها لوجه            1  Unbiased   \n",
      "2  أظهرت مقاطع فيديو كيف اقتحم مسلحون من غزة مهرج...            1  Unbiased   \n",
      "3  وقفة احتجاجية في جامعة عليكرة الإسلامية دعما ل...            1   Unclear   \n",
      "4  الجيش الإسرائيلي ينشر تسجيلًا صوتيًا حول صاروخ...            1  Unbiased   \n",
      "\n",
      "       Propaganda                                           Comments  \n",
      "0  Not Propaganda                                                     \n",
      "1      Propaganda                                                     \n",
      "2      Propaganda                                                     \n",
      "3         Unclear  Some text not translated, possibly meaning: \"O...  \n",
      "4  Not Propaganda                                                     \n"
     ]
    }
   ],
   "source": [
    "spreadsheet = gc.open_by_key(SHEET_ID)\n",
    "worksheet = spreadsheet.worksheet(SHEET_NAME)\n",
    "rows = worksheet.get_all_records()\n",
    "df = pd.DataFrame(rows)\n",
    "print(df.head())"
   ]
  },
  {
   "cell_type": "code",
   "execution_count": null,
   "metadata": {},
   "outputs": [],
   "source": []
  }
 ],
 "metadata": {
  "kernelspec": {
   "display_name": "venv",
   "language": "python",
   "name": "python3"
  },
  "language_info": {
   "codemirror_mode": {
    "name": "ipython",
    "version": 3
   },
   "file_extension": ".py",
   "mimetype": "text/x-python",
   "name": "python",
   "nbconvert_exporter": "python",
   "pygments_lexer": "ipython3",
   "version": "3.11.4"
  }
 },
 "nbformat": 4,
 "nbformat_minor": 2
}
